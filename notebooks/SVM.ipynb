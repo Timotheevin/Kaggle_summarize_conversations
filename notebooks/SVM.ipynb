{
 "cells": [
  {
   "cell_type": "code",
   "execution_count": 1,
   "metadata": {},
   "outputs": [
    {
     "name": "stderr",
     "output_type": "stream",
     "text": [
      "/users/eleves-b/2021/timothee.vincon/.local/lib/python3.9/site-packages/tqdm/auto.py:21: TqdmWarning: IProgress not found. Please update jupyter and ipywidgets. See https://ipywidgets.readthedocs.io/en/stable/user_install.html\n",
      "  from .autonotebook import tqdm as notebook_tqdm\n"
     ]
    }
   ],
   "source": [
    "import json\n",
    "from pathlib import Path\n",
    "\n",
    "from sentence_transformers import SentenceTransformer\n",
    "from sklearn.model_selection import train_test_split\n",
    "from sklearn.metrics import f1_score\n",
    "import pickle\n",
    "import torch\n",
    "from torch import nn\n",
    "import numpy as np\n",
    "from sklearn.metrics import accuracy_score\n",
    "\n",
    "import matplotlib.pyplot as plt\n",
    "\n",
    "from torch.utils.data import DataLoader, TensorDataset\n",
    "\n",
    "from sklearn.svm import SVC\n",
    "import joblib\n",
    "\n",
    "import gensim.downloader as api\n",
    "\n",
    "from sklearn.preprocessing import OneHotEncoder"
   ]
  },
  {
   "cell_type": "code",
   "execution_count": 2,
   "metadata": {},
   "outputs": [],
   "source": [
    "def flatten(list_of_list):\n",
    "    return [item for sublist in list_of_list for item in sublist]\n",
    "\n",
    "path_to_training = Path(\"../data/training\")\n",
    "path_to_test = Path(\"../data/test\")"
   ]
  },
  {
   "cell_type": "code",
   "execution_count": 3,
   "metadata": {},
   "outputs": [],
   "source": [
    "test_set = ['ES2003', 'ES2004', 'ES2011', 'ES2014', 'IS1008', 'IS1009', 'TS3003', 'TS3004', 'TS3006', 'TS3007']\n",
    "test_set = flatten([[m_id+s_id for s_id in 'abcd'] for m_id in test_set])\n",
    "\n",
    "training_set = ['ES2002', 'ES2005', 'ES2006', 'ES2007', 'ES2008', 'ES2009', 'ES2010', 'ES2012', 'ES2013', 'ES2015', 'ES2016', 'IS1000', 'IS1001', 'IS1002', 'IS1003', 'IS1004', 'IS1005', 'IS1006', 'IS1007', 'TS3005', 'TS3008', 'TS3009', 'TS3010', 'TS3011', 'TS3012']\n",
    "training_set = flatten([[m_id+s_id for s_id in 'abcd'] for m_id in training_set])\n",
    "training_set.remove('IS1002a')\n",
    "training_set.remove('IS1005d')\n",
    "training_set.remove('TS3012c')"
   ]
  },
  {
   "cell_type": "code",
   "execution_count": 4,
   "metadata": {},
   "outputs": [],
   "source": [
    "bert = SentenceTransformer('all-MiniLM-L6-v2')"
   ]
  },
  {
   "cell_type": "code",
   "execution_count": 5,
   "metadata": {},
   "outputs": [],
   "source": [
    "y_training = []\n",
    "with open(\"../data/training_labels.json\", \"r\") as file:\n",
    "    training_labels = json.load(file)\n",
    "X_training = [] \n",
    "X_training_edges = []\n",
    "X_training_speaker = []"
   ]
  },
  {
   "cell_type": "code",
   "execution_count": 6,
   "metadata": {},
   "outputs": [
    {
     "name": "stdout",
     "output_type": "stream",
     "text": [
      "[0. 0. 0. 0. 0. 0. 0. 0. 0. 0. 1. 0. 0. 0. 0. 0.]\n",
      "[0. 1. 0. 0.]\n"
     ]
    }
   ],
   "source": [
    "edge_types = ['Continuation', 'Explanation', 'Elaboration', 'Acknowledgement', 'Comment', 'Result', 'Question-answer_pair', 'Contrast', 'Clarification_question', 'Background', 'Narration', 'Alternation', 'Conditional', 'Q-Elab', 'Correction', 'Parallel']\n",
    "speakers = ['PM', 'ME', 'UI', 'ID']\n",
    "\n",
    "encoder_edge = OneHotEncoder(handle_unknown='ignore')\n",
    "encoder_edge.fit(np.array(edge_types).reshape(-1, 1))\n",
    "\n",
    "encoder_speaker = OneHotEncoder(handle_unknown='ignore')\n",
    "encoder_speaker.fit(np.array(speakers).reshape(-1, 1))\n",
    "\n",
    "print(encoder_edge.transform(np.array(['Explanation']).reshape(-1,1)).toarray().squeeze())\n",
    "print(encoder_speaker.transform(np.array(['ME']).reshape(-1,1)).toarray().squeeze())"
   ]
  },
  {
   "cell_type": "code",
   "execution_count": 7,
   "metadata": {},
   "outputs": [],
   "source": [
    "for transcription_id in training_set:\n",
    "    \n",
    "    file_path = \"../data/training/\" + transcription_id + '.txt'\n",
    "\n",
    "    with open(file_path, 'r') as file:\n",
    "\n",
    "        edge_type_transcriptionId = []\n",
    "\n",
    "        for line in file:\n",
    "\n",
    "            # Split the line in words\n",
    "            words = line.split()\n",
    "\n",
    "            # If the line is not empty\n",
    "            if words:\n",
    "                edge_type_transcriptionId.append(words[1])    # Type of the edge\n",
    "                if words[1] not in edge_types:\n",
    "                    edge_types.append(words[1])\n",
    "            else:\n",
    "                print(\"line is empty\")\n",
    "    \n",
    "    with open(path_to_training / f\"{transcription_id}.json\", \"r\") as file:\n",
    "        transcription = json.load(file)\n",
    "\n",
    "    X_training_text_current = []\n",
    "\n",
    "    c = 0\n",
    "    for utterance in transcription:\n",
    "        speaker = encoder_speaker.transform(np.array([utterance[\"speaker\"]]).reshape(-1,1)).toarray().squeeze()\n",
    "        \n",
    "        X_training_speaker.append(speaker)\n",
    "\n",
    "\n",
    "        if(c == 0):\n",
    "            X_training.append(utterance[\"text\"])\n",
    "            X_training_edges.append(np.array([0.0]*len(edge_types)))\n",
    "            X_training_text_current.append(utterance[\"text\"])\n",
    "        else:\n",
    "            X_training.append(utterance[\"text\"])\n",
    "            edge = encoder_edge.transform(np.array([edge_type_transcriptionId[c-1]]).reshape(-1,1)).toarray().squeeze()\n",
    "            X_training_edges.append(edge)\n",
    "            X_training_text_current.append(utterance[\"text\"])\n",
    "        c+=1\n",
    "\n",
    "    y_training += training_labels[transcription_id]"
   ]
  },
  {
   "cell_type": "code",
   "execution_count": 8,
   "metadata": {},
   "outputs": [
    {
     "name": "stdout",
     "output_type": "stream",
     "text": [
      "start encoding\n"
     ]
    },
    {
     "name": "stderr",
     "output_type": "stream",
     "text": [
      "Batches: 100%|██████████| 2270/2270 [00:10<00:00, 206.39it/s]\n"
     ]
    }
   ],
   "source": [
    "print(\"start encoding\") \n",
    "\n",
    "X_training = bert.encode(X_training, show_progress_bar=True)"
   ]
  },
  {
   "cell_type": "code",
   "execution_count": 9,
   "metadata": {},
   "outputs": [
    {
     "name": "stdout",
     "output_type": "stream",
     "text": [
      "[0. 0. 0. 0. 0. 0. 0. 0. 0. 0. 0. 0. 0. 0. 0. 0.]\n",
      "[0. 0. 1. 0.]\n"
     ]
    }
   ],
   "source": [
    "print(X_training_edges[0])\n",
    "\n",
    "print(X_training_speaker[0])"
   ]
  },
  {
   "cell_type": "code",
   "execution_count": 10,
   "metadata": {},
   "outputs": [
    {
     "name": "stdout",
     "output_type": "stream",
     "text": [
      "(72623, 384)\n",
      "(72623, 16)\n",
      "(72623, 4)\n"
     ]
    }
   ],
   "source": [
    "X_training_edges = np.array(X_training_edges)\n",
    "X_training_speaker = np.array(X_training_speaker)\n",
    "\n",
    "print(X_training.shape)\n",
    "print(X_training_edges.shape)\n",
    "print(X_training_speaker.shape)"
   ]
  },
  {
   "cell_type": "code",
   "execution_count": 11,
   "metadata": {},
   "outputs": [
    {
     "name": "stdout",
     "output_type": "stream",
     "text": [
      "final premier element  (404,)\n",
      "encoding training dataset finished\n"
     ]
    }
   ],
   "source": [
    "X_training_final = [np.concatenate((x, y, z)) for x, y,z in zip(X_training, X_training_speaker, X_training_edges)]\n",
    "print(\"final premier element \", X_training_final[0].shape)\n",
    "print(\"encoding training dataset finished\")"
   ]
  },
  {
   "cell_type": "code",
   "execution_count": 12,
   "metadata": {},
   "outputs": [
    {
     "name": "stdout",
     "output_type": "stream",
     "text": [
      "-0.14650167524814606\n",
      "1.0\n",
      "0.22034260630607605\n"
     ]
    }
   ],
   "source": [
    "print(np.min(X_training_final[0]))\n",
    "print(np.max(X_training_final[0]))\n",
    "\n",
    "maxi = 0\n",
    "for i in range(len(X_training_final[0])):\n",
    "    if maxi < X_training_final[0][i] and X_training_final[0][i] < 1:\n",
    "        maxi = X_training_final[0][i]\n",
    "print(maxi)"
   ]
  },
  {
   "cell_type": "code",
   "execution_count": 13,
   "metadata": {},
   "outputs": [
    {
     "name": "stdout",
     "output_type": "stream",
     "text": [
      "(72623, 404)\n",
      "(72623,)\n"
     ]
    }
   ],
   "source": [
    "print(np.array(X_training_final).shape)\n",
    "print(np.array(y_training).shape)"
   ]
  },
  {
   "cell_type": "code",
   "execution_count": 47,
   "metadata": {},
   "outputs": [
    {
     "name": "stdout",
     "output_type": "stream",
     "text": [
      "split done\n"
     ]
    }
   ],
   "source": [
    "X_train, X_test, y_train, y_test = train_test_split(np.array(X_training), y_training, test_size=0.2, random_state=42)\n",
    "\n",
    "print(\"split done\")"
   ]
  },
  {
   "cell_type": "code",
   "execution_count": 17,
   "metadata": {},
   "outputs": [
    {
     "name": "stdout",
     "output_type": "stream",
     "text": [
      "(72623, 384)\n"
     ]
    }
   ],
   "source": [
    "print(X_training.shape)"
   ]
  },
  {
   "cell_type": "code",
   "execution_count": 18,
   "metadata": {},
   "outputs": [
    {
     "name": "stdout",
     "output_type": "stream",
     "text": [
      "[LibSVM]..............................*........*.*\n",
      "optimization finished, #iter = 38434\n",
      "obj = -15113.568966, rho = -0.058639\n",
      "nSV = 22998, nBSV = 14759\n",
      "Total nSV = 22998\n",
      ".............................*........*\n",
      "optimization finished, #iter = 37874\n",
      "obj = -15065.250857, rho = -0.052288\n",
      "nSV = 22929, nBSV = 14736\n",
      "Total nSV = 22929\n",
      ".............................*.........*\n",
      "optimization finished, #iter = 38076\n",
      "obj = -15057.534519, rho = -0.047689\n",
      "nSV = 22959, nBSV = 14756\n",
      "Total nSV = 22959\n",
      ".............................*........*\n",
      "optimization finished, #iter = 37753\n",
      "obj = -15024.107021, rho = -0.108421\n",
      "nSV = 22849, nBSV = 14649\n",
      "Total nSV = 22849\n",
      ".............................*........*\n",
      "optimization finished, #iter = 37728\n",
      "obj = -15037.401750, rho = -0.058067\n",
      "nSV = 22872, nBSV = 14738\n",
      "Total nSV = 22872\n",
      ".....................................\n",
      "Warning: using -h 0 may be faster\n",
      "*..........*\n",
      "optimization finished, #iter = 47659\n",
      "obj = -18924.980801, rho = 0.059207\n",
      "nSV = 28344, nBSV = 18949\n",
      "Total nSV = 28344\n",
      "fit done\n"
     ]
    }
   ],
   "source": [
    "# create a svm classifier\n",
    "\n",
    "clf = SVC(kernel='rbf', verbose=True, C=1, class_weight='balanced', cache_size=4000, probability=True)\n",
    "\n",
    "# Train the model using the training sets\n",
    "\n",
    "clf.fit(X_train, y_train)\n",
    "\n",
    "print(\"fit done\")"
   ]
  },
  {
   "cell_type": "code",
   "execution_count": 48,
   "metadata": {},
   "outputs": [
    {
     "name": "stdout",
     "output_type": "stream",
     "text": [
      "predict done\n",
      "0.5859667916443492\n"
     ]
    }
   ],
   "source": [
    "y_pred = clf.predict(X_test)\n",
    "\n",
    "print(\"predict done\")\n",
    "\n",
    "# compute F1 score\n",
    "\n",
    "print(f1_score(y_test, y_pred))"
   ]
  },
  {
   "cell_type": "code",
   "execution_count": 49,
   "metadata": {},
   "outputs": [],
   "source": [
    "y_pred_proba = clf.predict_proba(X_test)"
   ]
  },
  {
   "cell_type": "code",
   "execution_count": 50,
   "metadata": {},
   "outputs": [
    {
     "name": "stdout",
     "output_type": "stream",
     "text": [
      "0.5981059485054749\n"
     ]
    }
   ],
   "source": [
    "threshold = 0.73\n",
    "\n",
    "for i in range(len(y_pred_proba)):\n",
    "    if y_pred_proba[i][0] > threshold:\n",
    "        y_pred[i] = 0\n",
    "    else:\n",
    "        y_pred[i] = 1\n",
    "\n",
    "print(f1_score(y_test, y_pred))"
   ]
  },
  {
   "cell_type": "code",
   "execution_count": 51,
   "metadata": {},
   "outputs": [
    {
     "name": "stdout",
     "output_type": "stream",
     "text": [
      "TP :  2021\n",
      "FP :  2099\n",
      "TN :  9788\n",
      "FN :  617\n"
     ]
    }
   ],
   "source": [
    "# print TP, FP, TN, FN\n",
    "\n",
    "print(\"TP : \", np.sum(np.logical_and(y_test, y_pred)))\n",
    "print(\"FP : \", np.sum(np.logical_and(np.logical_not(y_test), y_pred)))\n",
    "print(\"TN : \", np.sum(np.logical_and(np.logical_not(y_test), np.logical_not(y_pred))))\n",
    "print(\"FN : \", np.sum(np.logical_and(y_test, np.logical_not(y_pred))))"
   ]
  },
  {
   "cell_type": "code",
   "execution_count": 52,
   "metadata": {},
   "outputs": [
    {
     "data": {
      "text/plain": [
       "['SVM.joblib']"
      ]
     },
     "execution_count": 52,
     "metadata": {},
     "output_type": "execute_result"
    }
   ],
   "source": [
    "joblib.dump(clf, 'SVM.joblib')"
   ]
  },
  {
   "cell_type": "code",
   "execution_count": 57,
   "metadata": {},
   "outputs": [],
   "source": [
    "clf = joblib.load('SVM.joblib')"
   ]
  },
  {
   "cell_type": "code",
   "execution_count": 58,
   "metadata": {},
   "outputs": [
    {
     "data": {
      "text/plain": [
       "{'C': 1,\n",
       " 'break_ties': False,\n",
       " 'cache_size': 4000,\n",
       " 'class_weight': 'balanced',\n",
       " 'coef0': 0.0,\n",
       " 'decision_function_shape': 'ovr',\n",
       " 'degree': 3,\n",
       " 'gamma': 'scale',\n",
       " 'kernel': 'rbf',\n",
       " 'max_iter': -1,\n",
       " 'probability': True,\n",
       " 'random_state': None,\n",
       " 'shrinking': True,\n",
       " 'tol': 0.001,\n",
       " 'verbose': True}"
      ]
     },
     "execution_count": 58,
     "metadata": {},
     "output_type": "execute_result"
    }
   ],
   "source": [
    "clf.get_params()"
   ]
  },
  {
   "cell_type": "code",
   "execution_count": 59,
   "metadata": {},
   "outputs": [
    {
     "name": "stderr",
     "output_type": "stream",
     "text": [
      "Batches: 100%|██████████| 10/10 [00:00<00:00, 104.19it/s]\n",
      "Batches: 100%|██████████| 24/24 [00:00<00:00, 94.08it/s]\n",
      "Batches: 100%|██████████| 24/24 [00:00<00:00, 130.08it/s]\n",
      "Batches: 100%|██████████| 29/29 [00:00<00:00, 109.09it/s]\n",
      "Batches: 100%|██████████| 14/14 [00:00<00:00, 101.45it/s]\n",
      "Batches: 100%|██████████| 25/25 [00:00<00:00, 97.10it/s]\n",
      "Batches: 100%|██████████| 27/27 [00:00<00:00, 100.48it/s]\n",
      "Batches: 100%|██████████| 34/34 [00:00<00:00, 110.77it/s]\n",
      "Batches: 100%|██████████| 12/12 [00:00<00:00, 99.51it/s]\n",
      "Batches: 100%|██████████| 20/20 [00:00<00:00, 106.57it/s]\n",
      "Batches: 100%|██████████| 22/22 [00:00<00:00, 149.35it/s]\n",
      "Batches: 100%|██████████| 24/24 [00:00<00:00, 105.96it/s]\n",
      "Batches: 100%|██████████| 9/9 [00:00<00:00, 100.02it/s]\n",
      "Batches: 100%|██████████| 24/24 [00:00<00:00, 100.08it/s]\n",
      "Batches: 100%|██████████| 25/25 [00:00<00:00, 103.47it/s]\n",
      "Batches: 100%|██████████| 35/35 [00:00<00:00, 101.85it/s]\n",
      "Batches: 100%|██████████| 8/8 [00:00<00:00, 207.29it/s]\n",
      "Batches: 100%|██████████| 19/19 [00:00<00:00, 218.23it/s]\n",
      "Batches: 100%|██████████| 14/14 [00:00<00:00, 213.20it/s]\n",
      "Batches: 100%|██████████| 17/17 [00:00<00:00, 216.81it/s]\n",
      "Batches: 100%|██████████| 10/10 [00:00<00:00, 204.15it/s]\n",
      "Batches: 100%|██████████| 20/20 [00:00<00:00, 212.76it/s]\n",
      "Batches: 100%|██████████| 15/15 [00:00<00:00, 211.86it/s]\n",
      "Batches: 100%|██████████| 22/22 [00:00<00:00, 216.43it/s]\n",
      "Batches: 100%|██████████| 15/15 [00:00<00:00, 222.20it/s]\n",
      "Batches: 100%|██████████| 22/22 [00:00<00:00, 217.21it/s]\n",
      "Batches: 100%|██████████| 22/22 [00:00<00:00, 218.64it/s]\n",
      "Batches: 100%|██████████| 32/32 [00:00<00:00, 226.37it/s]\n",
      "Batches: 100%|██████████| 20/20 [00:00<00:00, 220.20it/s]\n",
      "Batches: 100%|██████████| 38/38 [00:00<00:00, 223.16it/s]\n",
      "Batches: 100%|██████████| 43/43 [00:00<00:00, 222.51it/s]\n",
      "Batches: 100%|██████████| 37/37 [00:00<00:00, 224.60it/s]\n",
      "Batches: 100%|██████████| 20/20 [00:00<00:00, 220.06it/s]\n",
      "Batches: 100%|██████████| 37/37 [00:00<00:00, 226.96it/s]\n",
      "Batches: 100%|██████████| 40/40 [00:00<00:00, 229.28it/s]\n",
      "Batches: 100%|██████████| 52/52 [00:00<00:00, 227.22it/s]\n",
      "Batches: 100%|██████████| 21/21 [00:00<00:00, 224.78it/s]\n",
      "Batches: 100%|██████████| 30/30 [00:00<00:00, 214.90it/s]\n",
      "Batches: 100%|██████████| 30/30 [00:00<00:00, 216.39it/s]\n",
      "Batches: 100%|██████████| 46/46 [00:00<00:00, 195.93it/s]\n"
     ]
    }
   ],
   "source": [
    "test_labels = {}\n",
    "for transcription_id in test_set:\n",
    "\n",
    "    X_test = [] \n",
    "    X_test_edges = []\n",
    "    X_test_speaker = []\n",
    "\n",
    "    X_test_edges.append(np.array([0.0]*len(edge_types)))\n",
    "    \n",
    "    file_path = \"../data/test/\" + transcription_id + '.txt'\n",
    "\n",
    "    with open(file_path, 'r') as file:\n",
    "\n",
    "        edge_type_transcriptionId = []\n",
    "        c_line = 0\n",
    "\n",
    "        for line in file:\n",
    "\n",
    "            # Split the line in words\n",
    "            words = line.split()\n",
    "\n",
    "            # If the line is not empty\n",
    "            if words:\n",
    "                edge_type_transcriptionId.append(words[1])    # Type of the edge\n",
    "                if words[1] not in edge_types:\n",
    "                    edge_types.append(words[1])\n",
    "            else:\n",
    "                print(\"WORDSSSSSSSSSSSSSSSSSSSSSSS\")\n",
    "\n",
    "            c_line += 1\n",
    "    \n",
    "\n",
    "    with open(path_to_test / f\"{transcription_id}.json\", \"r\") as file:\n",
    "        transcription = json.load(file)\n",
    "\n",
    "    c = 0\n",
    "    for utterance in transcription:\n",
    "        speaker = encoder_speaker.transform(np.array([utterance[\"speaker\"]]).reshape(-1,1)).toarray().squeeze()\n",
    "        \n",
    "        X_test_speaker.append(speaker)\n",
    "\n",
    "\n",
    "        if(c == 0):\n",
    "            X_test.append(utterance[\"text\"])\n",
    "        else:\n",
    "            X_test.append(utterance[\"text\"])\n",
    "            edge = encoder_edge.transform(np.array([edge_type_transcriptionId[c-1]]).reshape(-1,1)).toarray().squeeze()\n",
    "            X_test_edges.append(edge)\n",
    "        c+=1\n",
    "    \n",
    "    X_test = bert.encode(X_test, show_progress_bar=True)\n",
    "\n",
    "    X_test_edges = np.array(X_test_edges)\n",
    "    X_test_speaker = np.array(X_test_speaker)\n",
    "\n",
    "    X_test_final = [np.concatenate((x, y, z)) for x, y,z in zip(X_test_speaker, X_test, X_test_edges)]\n",
    "\n",
    "    y_test = np.array([0]*len(X_test))\n",
    "    y_test_proba = clf.predict_proba(X_test)\n",
    "    # replace y_test by 0 or 1\n",
    "    for i in range(len(y_test_proba)):\n",
    "        if y_test_proba[i][0] > threshold:\n",
    "            y_test[i] = 0\n",
    "        else:\n",
    "            y_test[i] = 1\n",
    "    test_labels[transcription_id] = y_test.tolist()\n",
    "\n",
    "with open(\"../submissions/test_labels_SVM_enhanced.json\", \"w\") as file:\n",
    "    json.dump(test_labels, file, indent=4)"
   ]
  },
  {
   "cell_type": "code",
   "execution_count": 69,
   "metadata": {},
   "outputs": [],
   "source": [
    "n_hunits=512\n",
    "\n",
    "\n",
    "model = nn.Sequential(\n",
    "    nn.Linear(404, n_hunits),\n",
    "    nn.ReLU(),\n",
    "    nn.Linear(n_hunits, n_hunits),\n",
    "    nn.ReLU(),\n",
    "    nn.Linear(n_hunits, 2),\n",
    "    nn.Softmax(dim=1)\n",
    ")"
   ]
  },
  {
   "cell_type": "code",
   "execution_count": 70,
   "metadata": {},
   "outputs": [
    {
     "data": {
      "text/plain": [
       "Sequential(\n",
       "  (0): Linear(in_features=404, out_features=512, bias=True)\n",
       "  (1): ReLU()\n",
       "  (2): Linear(in_features=512, out_features=512, bias=True)\n",
       "  (3): ReLU()\n",
       "  (4): Linear(in_features=512, out_features=2, bias=True)\n",
       "  (5): Softmax(dim=1)\n",
       ")"
      ]
     },
     "execution_count": 70,
     "metadata": {},
     "output_type": "execute_result"
    }
   ],
   "source": [
    "def init_weights(m):\n",
    "    if type(m) == nn.Linear:\n",
    "        torch.nn.init.xavier_uniform_(m.weight)\n",
    "        m.bias.data.fill_(0.01)\n",
    "\n",
    "model.apply(init_weights)"
   ]
  },
  {
   "cell_type": "code",
   "execution_count": 73,
   "metadata": {},
   "outputs": [],
   "source": [
    "device = torch.device(\"cuda:0\" if torch.cuda.is_available() else \"cpu\")\n",
    "\n",
    "# move training data to GPU\n",
    "\n",
    "X_train = torch.tensor(np.array(X_train)).float().to(device)\n",
    "y_train = torch.tensor(np.array(y_train)).long().to(device)\n",
    "\n",
    "X_test = torch.tensor(np.array(X_test)).float().to(device)\n",
    "y_test = torch.tensor(np.array(y_test)).long().to(device)"
   ]
  },
  {
   "cell_type": "code",
   "execution_count": 76,
   "metadata": {},
   "outputs": [
    {
     "name": "stdout",
     "output_type": "stream",
     "text": [
      "epoch :  0 / 5000 loss :  0.4190415 train f1 :  0.690002140869193 test f1 :  0.48891814790432303 lr :  0.4\n",
      "epoch :  500 / 5000 loss :  0.43759286 train f1 :  0.6648527669285119 test f1 :  0.2410993129294191 lr :  0.36000000000000004\n",
      "epoch :  1000 / 5000 loss :  0.42833903 train f1 :  0.6843082636954503 test f1 :  0.3556531284302964 lr :  0.32400000000000007\n",
      "epoch :  1500 / 5000 loss :  0.42523012 train f1 :  0.6947417620939472 test f1 :  0.37220576353353085 lr :  0.2916000000000001\n",
      "epoch :  2000 / 5000 loss :  0.42226636 train f1 :  0.7046203067657851 test f1 :  0.37689645994144266 lr :  0.26244000000000006\n",
      "epoch :  2500 / 5000 loss :  0.41953966 train f1 :  0.714103472714387 test f1 :  0.38102766798418974 lr :  0.23619600000000007\n",
      "epoch :  3000 / 5000 loss :  0.41687387 train f1 :  0.7218401707374911 test f1 :  0.3850183342063908 lr :  0.21257640000000008\n",
      "epoch :  3500 / 5000 loss :  0.4140669 train f1 :  0.7296665553594428 test f1 :  0.39346811819595645 lr :  0.1913187600000001\n",
      "epoch :  4000 / 5000 loss :  0.41136697 train f1 :  0.7374274893331416 test f1 :  0.40020497053548554 lr :  0.1721868840000001\n",
      "epoch :  4500 / 5000 loss :  0.4087651 train f1 :  0.7451888294024019 test f1 :  0.4051855617691917 lr :  0.15496819560000008\n"
     ]
    },
    {
     "data": {
      "image/png": "[encoded data removed]",
      "text/plain": [
       "<Figure size 1600x800 with 2 Axes>"
      ]
     },
     "metadata": {},
     "output_type": "display_data"
    }
   ],
   "source": [
    "\n",
    "model.to(device) #if you have CUDA, this will make computation faster\n",
    "\n",
    "loss_function = nn.CrossEntropyLoss()\n",
    "optimizer = torch.optim.SGD(model.parameters(), lr=0.4) #actually SGD is just GD in this case\n",
    "\n",
    "#init performance measures\n",
    "losses = []\n",
    "tr_acc = []\n",
    "test_acc = []\n",
    "\n",
    "nb_epochs=5000\n",
    "\n",
    "for epoch in range(nb_epochs):\n",
    "    output=model.forward(X_train)\n",
    "    loss = loss_function(output, y_train)\n",
    "    optimizer.zero_grad() #required since pytorch accumulates the gradients\n",
    "    loss.backward() #backpropagation step\n",
    "    optimizer.step() #update the parameters\n",
    "    \n",
    "    #update loss and accuracy\n",
    "    losses.append(loss.data.cpu().numpy())\n",
    "    output_te=model(X_test)\n",
    "    tr_acc.append(f1_score(y_train.cpu(), torch.max(output.cpu(), 1)[1]))\n",
    "    test_acc.append(f1_score(y_test.cpu(), torch.max(output_te.cpu(), 1)[1]))\n",
    "    if epoch % 500 == 0:\n",
    "        print('epoch : ', epoch, '/', nb_epochs, 'loss : ', loss.data.cpu().numpy(), 'train f1 : ', tr_acc[-1], 'test f1 : ', test_acc[-1], 'lr : ', optimizer.param_groups[0]['lr'])\n",
    "        optimizer.param_groups[0]['lr'] *= 0.9\n",
    "\n",
    "fig, (ax1, ax2) = plt.subplots(1, 2, figsize=(16,8))\n",
    "ax1.plot(losses)\n",
    "ax1.set_title(\"Training Loss\")\n",
    "ax1.set_xlabel(\"Iterations\")\n",
    "ax2.plot(test_acc, c='r', label='test')\n",
    "ax2.plot(tr_acc, c='b', label='train')\n",
    "ax2.set_title(\"Train and test F1 score\")\n",
    "ax2.set_xlabel(\"Iterations\")\n",
    "plt.legend()\n",
    "plt.show()"
   ]
  }
 ],
 "metadata": {
  "kernelspec": {
   "display_name": "Python 3",
   "language": "python",
   "name": "python3"
  },
  "language_info": {
   "codemirror_mode": {
    "name": "ipython",
    "version": 3
   },
   "file_extension": ".py",
   "mimetype": "text/x-python",
   "name": "python",
   "nbconvert_exporter": "python",
   "pygments_lexer": "ipython3",
   "version": "3.9.18"
  }
 },
 "nbformat": 4,
 "nbformat_minor": 2
}
