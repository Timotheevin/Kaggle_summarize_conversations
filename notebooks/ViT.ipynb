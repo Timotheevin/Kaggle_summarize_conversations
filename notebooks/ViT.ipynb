{
 "cells": [
  {
   "cell_type": "code",
   "execution_count": 21,
   "metadata": {},
   "outputs": [],
   "source": [
    "import json\n",
    "from pathlib import Path\n",
    "\n",
    "from sentence_transformers import SentenceTransformer\n",
    "from sklearn.model_selection import train_test_split\n",
    "from sklearn.metrics import f1_score\n",
    "import pickle\n",
    "import torch\n",
    "from torch import nn\n",
    "import numpy as np\n",
    "from sklearn.metrics import accuracy_score\n",
    "\n",
    "import matplotlib.pyplot as plt\n",
    "\n",
    "from torch.utils.data import DataLoader, TensorDataset\n",
    "from tqdm.notebook import tqdm\n",
    "\n",
    "from gensim.test.utils import common_texts\n",
    "from gensim.models import Word2Vec\n",
    "import gensim.downloader as api\n",
    "\n",
    "import re\n",
    "\n",
    "from vit_pytorch import ViT\n",
    "from torch.optim.lr_scheduler import StepLR"
   ]
  },
  {
   "cell_type": "code",
   "execution_count": 22,
   "metadata": {},
   "outputs": [],
   "source": [
    "def flatten(list_of_list):\n",
    "    return [item for sublist in list_of_list for item in sublist]"
   ]
  },
  {
   "cell_type": "code",
   "execution_count": 23,
   "metadata": {},
   "outputs": [],
   "source": [
    "path_to_training = Path(\"../data/training\")\n",
    "path_to_test = Path(\"../data/test\")\n",
    "\n",
    "#####\n",
    "# training and test sets of transcription ids\n",
    "#####\n",
    "training_set = ['ES2002', 'ES2005', 'ES2006', 'ES2007', 'ES2008', 'ES2009', 'ES2010', 'ES2012', 'ES2013', 'ES2015', 'ES2016', 'IS1000', 'IS1001', 'IS1002', 'IS1003', 'IS1004', 'IS1005', 'IS1006', 'IS1007', 'TS3005', 'TS3008', 'TS3009', 'TS3010', 'TS3011', 'TS3012']\n",
    "training_set = flatten([[m_id+s_id for s_id in 'abcd'] for m_id in training_set])\n",
    "training_set.remove('IS1002a')\n",
    "training_set.remove('IS1005d')\n",
    "training_set.remove('TS3012c')\n",
    "\n",
    "test_set = ['ES2003', 'ES2004', 'ES2011', 'ES2014', 'IS1008', 'IS1009', 'TS3003', 'TS3004', 'TS3006', 'TS3007']\n",
    "test_set = flatten([[m_id+s_id for s_id in 'abcd'] for m_id in test_set])"
   ]
  },
  {
   "cell_type": "code",
   "execution_count": 24,
   "metadata": {},
   "outputs": [],
   "source": [
    "model = api.load('glove-twitter-100')"
   ]
  },
  {
   "cell_type": "code",
   "execution_count": 25,
   "metadata": {},
   "outputs": [
    {
     "data": {
      "text/plain": [
       "(100,)"
      ]
     },
     "execution_count": 25,
     "metadata": {},
     "output_type": "execute_result"
    }
   ],
   "source": [
    "model['hello'].shape"
   ]
  },
  {
   "cell_type": "code",
   "execution_count": 26,
   "metadata": {},
   "outputs": [],
   "source": [
    "y_training = []\n",
    "with open(\"../data/training_labels.json\", \"r\") as file:\n",
    "    training_labels = json.load(file)\n",
    "X_training = []\n",
    "for transcription_id in training_set:\n",
    "    with open(path_to_training / f\"{transcription_id}.json\", \"r\") as file:\n",
    "        transcription = json.load(file)\n",
    "    \n",
    "    for utterance in transcription:\n",
    "        vecs = []\n",
    "        vecs.append(model[utterance[\"speaker\"].lower()])\n",
    "        for word in re.split(\" |'\", utterance[\"text\"]):\n",
    "            if word.lower() == \"<vocalsound>\":\n",
    "                vecs.append(model[\"vocal\"])\n",
    "                vecs.append(model[\"sound\"])\n",
    "            elif word.lower() == \"<disfmarker>\":\n",
    "                vecs.append(model[\"marker\"])\n",
    "            elif word.lower() == \"<gap>\":\n",
    "                vecs.append(model[\"gap\"])\n",
    "            elif word.lower() not in model:\n",
    "                pass\n",
    "            else:\n",
    "                vecs.append(model[word.lower()])\n",
    "        while len(vecs) < 80:\n",
    "            vecs.append(np.zeros(100))\n",
    "        if len(vecs) > 80:\n",
    "            print(len(vecs))\n",
    "\n",
    "        array = np.array([vecs, vecs, vecs])\n",
    "        array = array.reshape(3, 80, 100)\n",
    "        X_training.append(array)\n",
    "    \n",
    "    y_training += training_labels[transcription_id]\n"
   ]
  },
  {
   "cell_type": "code",
   "execution_count": 27,
   "metadata": {},
   "outputs": [
    {
     "name": "stdout",
     "output_type": "stream",
     "text": [
      "(72623, 3, 80, 100)\n",
      "(72623,)\n"
     ]
    }
   ],
   "source": [
    "X_training = np.array(X_training)\n",
    "y_training = np.array(y_training)\n",
    "\n",
    "print(X_training.shape)\n",
    "print(y_training.shape)"
   ]
  },
  {
   "cell_type": "code",
   "execution_count": 40,
   "metadata": {},
   "outputs": [],
   "source": [
    "device = torch.device(\"cuda:0\" if torch.cuda.is_available() else \"cpu\")\n",
    "\n",
    "X_train, X_test, y_train, y_test = train_test_split(X_training, y_training, test_size=0.2, random_state=42)\n",
    "\n",
    "# define batch size\n",
    "batch_size = 16\n",
    "\n",
    "# create tensor datasets\n",
    "trainset = TensorDataset(torch.from_numpy(X_train).float().to(device), torch.from_numpy(y_train).long().to(device))\n",
    "validset = TensorDataset(torch.from_numpy(X_test).float().to(device), torch.from_numpy(y_test).long().to(device))\n",
    "\n",
    "# create dataloaders\n",
    "train_loader = DataLoader(trainset, shuffle=True, batch_size=batch_size)\n",
    "valid_loader = DataLoader(validset, shuffle=True, batch_size=batch_size)"
   ]
  },
  {
   "cell_type": "code",
   "execution_count": 50,
   "metadata": {},
   "outputs": [],
   "source": [
    "# Training settings\n",
    "\n",
    "batch_size = 16\n",
    "epochs = 5\n",
    "lr = 3e-5\n",
    "gamma = 0.7\n",
    "seed = 42\n",
    "device = 'cuda' if torch.cuda.is_available() else 'cpu'"
   ]
  },
  {
   "cell_type": "code",
   "execution_count": 93,
   "metadata": {},
   "outputs": [],
   "source": [
    "# Create a sample ViT model\n",
    "\n",
    "v = ViT(\n",
    "    image_size = 100,\n",
    "    patch_size = 20,\n",
    "    num_classes = 2,\n",
    "    dim = 1024,\n",
    "    depth = 6,\n",
    "    heads = 16,\n",
    "    mlp_dim = 2048,\n",
    "    dropout = 0.05,\n",
    "    emb_dropout = 0.1,\n",
    "    channels = 3\n",
    ")\n",
    "\n",
    "# Create a ResNet model using ResNet50\n",
    "\n",
    "from torchvision.models import resnet50, ResNet50_Weights\n",
    "resnet = resnet50(weights=ResNet50_Weights.DEFAULT)\n",
    "resnet.fc = nn.Linear(2048, 2)\n",
    "\n",
    "# Choose the model to train\n",
    "\n",
    "model = v.to(device)\n",
    "\n"
   ]
  },
  {
   "cell_type": "code",
   "execution_count": 94,
   "metadata": {},
   "outputs": [],
   "source": [
    "# loss function\n",
    "criterion = nn.CrossEntropyLoss()\n",
    "# optimizer\n",
    "optimizer = torch.optim.Adam(model.parameters(), lr=lr)\n",
    "# scheduler\n",
    "scheduler = StepLR(optimizer, step_size=1, gamma=gamma)"
   ]
  },
  {
   "cell_type": "code",
   "execution_count": 96,
   "metadata": {},
   "outputs": [
    {
     "data": {
      "application/vnd.jupyter.widget-view+json": {
       "model_id": "58908a0d615c46fd9188d5494c5a5928",
       "version_major": 2,
       "version_minor": 0
      },
      "text/plain": [
       "  0%|          | 0/3632 [00:00<?, ?it/s]"
      ]
     },
     "metadata": {},
     "output_type": "display_data"
    },
    {
     "name": "stdout",
     "output_type": "stream",
     "text": [
      "Epoch : 1 - loss : 0.3500 - train_f1: 0.3904 - val_loss : 0.3318 - val_f1: 0.4307\n",
      "\n"
     ]
    },
    {
     "data": {
      "application/vnd.jupyter.widget-view+json": {
       "model_id": "9d6505efdaf5463681c6e8d420304b34",
       "version_major": 2,
       "version_minor": 0
      },
      "text/plain": [
       "  0%|          | 0/3632 [00:00<?, ?it/s]"
      ]
     },
     "metadata": {},
     "output_type": "display_data"
    },
    {
     "name": "stdout",
     "output_type": "stream",
     "text": [
      "Epoch : 2 - loss : 0.3347 - train_f1: 0.4339 - val_loss : 0.3297 - val_f1: 0.3620\n",
      "\n"
     ]
    },
    {
     "data": {
      "application/vnd.jupyter.widget-view+json": {
       "model_id": "6a4b5447a46e4a9abbd2a2e26f2baf6d",
       "version_major": 2,
       "version_minor": 0
      },
      "text/plain": [
       "  0%|          | 0/3632 [00:00<?, ?it/s]"
      ]
     },
     "metadata": {},
     "output_type": "display_data"
    },
    {
     "name": "stdout",
     "output_type": "stream",
     "text": [
      "Epoch : 3 - loss : 0.3243 - train_f1: 0.4716 - val_loss : 0.3301 - val_f1: 0.4223\n",
      "\n"
     ]
    },
    {
     "data": {
      "application/vnd.jupyter.widget-view+json": {
       "model_id": "72926f823122447e807f75d40551ee14",
       "version_major": 2,
       "version_minor": 0
      },
      "text/plain": [
       "  0%|          | 0/3632 [00:00<?, ?it/s]"
      ]
     },
     "metadata": {},
     "output_type": "display_data"
    },
    {
     "name": "stdout",
     "output_type": "stream",
     "text": [
      "Epoch : 4 - loss : 0.3134 - train_f1: 0.5059 - val_loss : 0.3335 - val_f1: 0.4626\n",
      "\n"
     ]
    },
    {
     "data": {
      "application/vnd.jupyter.widget-view+json": {
       "model_id": "8bedbdc82a10479ead6b244b47d0a844",
       "version_major": 2,
       "version_minor": 0
      },
      "text/plain": [
       "  0%|          | 0/3632 [00:00<?, ?it/s]"
      ]
     },
     "metadata": {},
     "output_type": "display_data"
    },
    {
     "name": "stdout",
     "output_type": "stream",
     "text": [
      "Epoch : 5 - loss : 0.2978 - train_f1: 0.5457 - val_loss : 0.3461 - val_f1: 0.3082\n",
      "\n"
     ]
    }
   ],
   "source": [
    "# Train the model\n",
    "\n",
    "losses_train = []\n",
    "losses_valid = []\n",
    "\n",
    "f1_train = []\n",
    "f1_valid = []\n",
    "\n",
    "for epoch in range(epochs):\n",
    "    epoch_loss = 0\n",
    "    epoch_accuracy = 0\n",
    "\n",
    "    TP = 0\n",
    "    FP = 0\n",
    "    TN = 0\n",
    "    FN = 0\n",
    "\n",
    "    for data, label in tqdm(train_loader):\n",
    "        data = data.to(device)\n",
    "        label = label.to(device)\n",
    "\n",
    "        output = model(data)\n",
    "\n",
    "        loss = criterion(output, label)\n",
    "\n",
    "        optimizer.zero_grad()\n",
    "        loss.backward()\n",
    "        optimizer.step()\n",
    "\n",
    "        acc = (output.argmax(dim=1) == label).float().mean()\n",
    "        epoch_accuracy += acc / len(train_loader)\n",
    "        epoch_loss += loss / len(train_loader)\n",
    "\n",
    "        TP += ((output.argmax(dim=1) == label) & (label == 1)).float().sum()\n",
    "        FP += ((output.argmax(dim=1) != label) & (label == 0)).float().sum()\n",
    "        TN += ((output.argmax(dim=1) == label) & (label == 0)).float().sum()\n",
    "        FN += ((output.argmax(dim=1) != label) & (label == 1)).float().sum()\n",
    "\n",
    "\n",
    "    # compute f1 score\n",
    "\n",
    "    f1_t = (2*TP)/(2*TP + FP + FN)\n",
    "\n",
    "    losses_train.append(epoch_loss)\n",
    "    f1_train.append(f1_t)\n",
    "\n",
    "    with torch.no_grad():\n",
    "        epoch_val_accuracy = 0\n",
    "        epoch_val_loss = 0\n",
    "        TP = 0\n",
    "        FP = 0\n",
    "        TN = 0\n",
    "        FN = 0\n",
    "\n",
    "        for data, label in valid_loader:\n",
    "            data = data.to(device)\n",
    "            label = label.to(device)\n",
    "\n",
    "            val_output = model(data)\n",
    "            val_loss = criterion(val_output, label)\n",
    "\n",
    "            acc = (val_output.argmax(dim=1) == label).float().mean()\n",
    "\n",
    "            epoch_val_accuracy += acc / len(valid_loader)\n",
    "            epoch_val_loss += val_loss / len(valid_loader)\n",
    "\n",
    "            TP += ((val_output.argmax(dim=1) == label) & (label == 1)).float().sum()\n",
    "            FP += ((val_output.argmax(dim=1) != label) & (label == 0)).float().sum()\n",
    "            TN += ((val_output.argmax(dim=1) == label) & (label == 0)).float().sum()\n",
    "            FN += ((val_output.argmax(dim=1) != label) & (label == 1)).float().sum()\n",
    "\n",
    "        # compute f1 score\n",
    "\n",
    "        f1_v = (2*TP)/(2*TP + FP + FN)\n",
    "\n",
    "        losses_valid.append(epoch_val_loss)\n",
    "        f1_valid.append(f1_v)\n",
    "\n",
    "    print(\n",
    "        f\"Epoch : {epoch+1} - loss : {epoch_loss:.4f} - train_f1: {f1_t:.4f} - val_loss : {epoch_val_loss:.4f} - val_f1: {f1_v:.4f}\\n\"\n",
    "    )\n",
    "    torch.save(model.state_dict(), 'ViT_model.pth')\n"
   ]
  },
  {
   "cell_type": "code",
   "execution_count": 97,
   "metadata": {},
   "outputs": [],
   "source": [
    "for (i,loss) in enumerate(losses_train):\n",
    "    loss = loss.cpu().detach().numpy()\n",
    "    losses_train[i] = loss\n",
    "for (i,loss) in enumerate(losses_valid):\n",
    "    loss = loss.cpu().detach().numpy()\n",
    "    losses_valid[i] = loss\n",
    "\n",
    "for (i,f1) in enumerate(f1_train):\n",
    "    f1 = f1.cpu().detach().numpy()\n",
    "    f1_train[i] = f1\n",
    "for (i,f1) in enumerate(f1_valid):\n",
    "    f1 = f1.cpu().detach().numpy()\n",
    "    f1_valid[i] = f1"
   ]
  },
  {
   "cell_type": "code",
   "execution_count": 98,
   "metadata": {},
   "outputs": [
    {
     "data": {
      "image/png": "[encoded data removed]",
      "text/plain": [
       "<Figure size 1000x500 with 2 Axes>"
      ]
     },
     "metadata": {},
     "output_type": "display_data"
    }
   ],
   "source": [
    "# plot losses and f1 scores\n",
    "\n",
    "plt.figure(figsize=(10, 5))\n",
    "plt.subplot(1, 2, 1)\n",
    "plt.title(\"Loss\")\n",
    "plt.plot(losses_train, label=\"train\")\n",
    "plt.plot(losses_valid, label=\"validation\")\n",
    "plt.xlabel(\"epochs\")\n",
    "plt.ylabel(\"loss\")\n",
    "plt.legend()\n",
    "\n",
    "plt.subplot(1, 2, 2)\n",
    "plt.title(\"F1 score\")\n",
    "plt.plot(f1_train, label=\"train\")\n",
    "plt.plot(f1_valid, label=\"validation\")\n",
    "plt.xlabel(\"epochs\")\n",
    "plt.ylabel(\"F1 score\")\n",
    "plt.legend()\n",
    "plt.show()\n"
   ]
  }
 ],
 "metadata": {
  "kernelspec": {
   "display_name": "Python 3",
   "language": "python",
   "name": "python3"
  },
  "language_info": {
   "codemirror_mode": {
    "name": "ipython",
    "version": 3
   },
   "file_extension": ".py",
   "mimetype": "text/x-python",
   "name": "python",
   "nbconvert_exporter": "python",
   "pygments_lexer": "ipython3",
   "version": "3.9.18"
  }
 },
 "nbformat": 4,
 "nbformat_minor": 2
}
