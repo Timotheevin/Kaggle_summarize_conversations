{
 "cells": [
  {
   "cell_type": "code",
   "execution_count": 1,
   "metadata": {},
   "outputs": [
    {
     "name": "stderr",
     "output_type": "stream",
     "text": [
      "/users/eleves-b/2021/timothee.vincon/.local/lib/python3.9/site-packages/tqdm/auto.py:21: TqdmWarning: IProgress not found. Please update jupyter and ipywidgets. See https://ipywidgets.readthedocs.io/en/stable/user_install.html\n",
      "  from .autonotebook import tqdm as notebook_tqdm\n"
     ]
    }
   ],
   "source": [
    "import json\n",
    "from pathlib import Path\n",
    "\n",
    "from sentence_transformers import SentenceTransformer\n",
    "from sklearn.model_selection import train_test_split\n",
    "from sklearn.metrics import f1_score\n",
    "import pickle\n",
    "import torch\n",
    "from torch import nn\n",
    "import numpy as np\n",
    "from sklearn.metrics import accuracy_score\n",
    "\n",
    "import matplotlib.pyplot as plt\n",
    "\n",
    "from torch.utils.data import DataLoader, TensorDataset\n",
    "\n",
    "from sklearn.svm import SVC\n",
    "import joblib\n",
    "\n",
    "import gensim.downloader as api\n",
    "\n",
    "from sklearn.preprocessing import OneHotEncoder"
   ]
  },
  {
   "cell_type": "code",
   "execution_count": 2,
   "metadata": {},
   "outputs": [],
   "source": [
    "def flatten(list_of_list):\n",
    "    return [item for sublist in list_of_list for item in sublist]\n",
    "\n",
    "path_to_training = Path(\"../data/training\")\n",
    "path_to_test = Path(\"../data/test\")"
   ]
  },
  {
   "cell_type": "code",
   "execution_count": 3,
   "metadata": {},
   "outputs": [],
   "source": [
    "test_set = ['ES2003', 'ES2004', 'ES2011', 'ES2014', 'IS1008', 'IS1009', 'TS3003', 'TS3004', 'TS3006', 'TS3007']\n",
    "test_set = flatten([[m_id+s_id for s_id in 'abcd'] for m_id in test_set])\n",
    "\n",
    "training_set = ['ES2002', 'ES2005', 'ES2006', 'ES2007', 'ES2008', 'ES2009', 'ES2010', 'ES2012', 'ES2013', 'ES2015', 'ES2016', 'IS1000', 'IS1001', 'IS1002', 'IS1003', 'IS1004', 'IS1005', 'IS1006', 'IS1007', 'TS3005', 'TS3008', 'TS3009', 'TS3010', 'TS3011', 'TS3012']\n",
    "training_set = flatten([[m_id+s_id for s_id in 'abcd'] for m_id in training_set])\n",
    "training_set.remove('IS1002a')\n",
    "training_set.remove('IS1005d')\n",
    "training_set.remove('TS3012c')"
   ]
  },
  {
   "cell_type": "code",
   "execution_count": 4,
   "metadata": {},
   "outputs": [],
   "source": [
    "bert = SentenceTransformer('all-MiniLM-L6-v2')"
   ]
  },
  {
   "cell_type": "code",
   "execution_count": 5,
   "metadata": {},
   "outputs": [],
   "source": [
    "y_training = []\n",
    "with open(\"../data/training_labels.json\", \"r\") as file:\n",
    "    training_labels = json.load(file)\n",
    "X_training = [] \n",
    "X_training_edges = []\n",
    "X_training_speaker = []"
   ]
  },
  {
   "cell_type": "code",
   "execution_count": 6,
   "metadata": {},
   "outputs": [
    {
     "name": "stdout",
     "output_type": "stream",
     "text": [
      "[0. 0. 0. 0. 0. 0. 0. 0. 0. 0. 1. 0. 0. 0. 0. 0.]\n",
      "[0. 1. 0. 0.]\n"
     ]
    }
   ],
   "source": [
    "edge_types = ['Continuation', 'Explanation', 'Elaboration', 'Acknowledgement', 'Comment', 'Result', 'Question-answer_pair', 'Contrast', 'Clarification_question', 'Background', 'Narration', 'Alternation', 'Conditional', 'Q-Elab', 'Correction', 'Parallel']\n",
    "speakers = ['PM', 'ME', 'UI', 'ID']\n",
    "\n",
    "encoder_edge = OneHotEncoder(handle_unknown='ignore')\n",
    "encoder_edge.fit(np.array(edge_types).reshape(-1, 1))\n",
    "\n",
    "encoder_speaker = OneHotEncoder(handle_unknown='ignore')\n",
    "encoder_speaker.fit(np.array(speakers).reshape(-1, 1))\n",
    "\n",
    "print(encoder_edge.transform(np.array(['Explanation']).reshape(-1,1)).toarray().squeeze())\n",
    "print(encoder_speaker.transform(np.array(['ME']).reshape(-1,1)).toarray().squeeze())"
   ]
  },
  {
   "cell_type": "code",
   "execution_count": 7,
   "metadata": {},
   "outputs": [],
   "source": [
    "for transcription_id in training_set:\n",
    "    \n",
    "    file_path = \"../data/training/\" + transcription_id + '.txt'\n",
    "\n",
    "    with open(file_path, 'r') as file:\n",
    "\n",
    "        edge_type_transcriptionId = []\n",
    "\n",
    "        for line in file:\n",
    "\n",
    "            # Split the line in words\n",
    "            words = line.split()\n",
    "\n",
    "            # If the line is not empty\n",
    "            if words:\n",
    "                edge_type_transcriptionId.append(words[1])    # Type of the edge\n",
    "                if words[1] not in edge_types:\n",
    "                    edge_types.append(words[1])\n",
    "            else:\n",
    "                print(\"line is empty\")\n",
    "    \n",
    "    with open(path_to_training / f\"{transcription_id}.json\", \"r\") as file:\n",
    "        transcription = json.load(file)\n",
    "\n",
    "    X_training_text_current = []\n",
    "\n",
    "    c = 0\n",
    "    for utterance in transcription:\n",
    "        speaker = encoder_speaker.transform(np.array([utterance[\"speaker\"]]).reshape(-1,1)).toarray().squeeze()\n",
    "        \n",
    "        X_training_speaker.append(speaker)\n",
    "\n",
    "\n",
    "        if(c == 0):\n",
    "            X_training.append(utterance[\"text\"])\n",
    "            X_training_edges.append(np.array([0.0]*len(edge_types)))\n",
    "            X_training_text_current.append(utterance[\"text\"])\n",
    "        else:\n",
    "            X_training.append(utterance[\"text\"])\n",
    "            edge = encoder_edge.transform(np.array([edge_type_transcriptionId[c-1]]).reshape(-1,1)).toarray().squeeze()\n",
    "            X_training_edges.append(edge)\n",
    "            X_training_text_current.append(utterance[\"text\"])\n",
    "        c+=1\n",
    "\n",
    "    y_training += training_labels[transcription_id]"
   ]
  },
  {
   "cell_type": "code",
   "execution_count": 8,
   "metadata": {},
   "outputs": [
    {
     "name": "stdout",
     "output_type": "stream",
     "text": [
      "start encoding\n"
     ]
    },
    {
     "name": "stderr",
     "output_type": "stream",
     "text": [
      "Batches: 100%|██████████| 2270/2270 [00:14<00:00, 156.06it/s]\n"
     ]
    }
   ],
   "source": [
    "print(\"start encoding\") \n",
    "\n",
    "X_training = bert.encode(X_training, show_progress_bar=True)"
   ]
  },
  {
   "cell_type": "code",
   "execution_count": 9,
   "metadata": {},
   "outputs": [
    {
     "name": "stdout",
     "output_type": "stream",
     "text": [
      "(72623, 384)\n",
      "(72623, 16)\n",
      "(72623, 4)\n"
     ]
    }
   ],
   "source": [
    "X_training_edges = np.array(X_training_edges)\n",
    "X_training_speaker = np.array(X_training_speaker)\n",
    "\n",
    "print(X_training.shape)\n",
    "print(X_training_edges.shape)\n",
    "print(X_training_speaker.shape)"
   ]
  },
  {
   "cell_type": "code",
   "execution_count": 10,
   "metadata": {},
   "outputs": [
    {
     "name": "stdout",
     "output_type": "stream",
     "text": [
      "final premier element  (404,)\n",
      "encoding training dataset finished\n"
     ]
    }
   ],
   "source": [
    "X_training_final = [np.concatenate((x, y, z)) for x, y,z in zip(X_training, X_training_speaker, X_training_edges)]\n",
    "print(\"final premier element \", X_training_final[0].shape)\n",
    "print(\"encoding training dataset finished\")"
   ]
  },
  {
   "cell_type": "code",
   "execution_count": 11,
   "metadata": {},
   "outputs": [
    {
     "name": "stdout",
     "output_type": "stream",
     "text": [
      "pca finished\n"
     ]
    }
   ],
   "source": [
    "# apply pca to reduce dimensionality\n",
    "\n",
    "from sklearn.decomposition import PCA   \n",
    "\n",
    "pca = PCA(n_components=2)\n",
    "\n",
    "X_training_final_pca = pca.fit_transform(X_training_final)\n",
    "\n",
    "print(\"pca finished\")"
   ]
  },
  {
   "cell_type": "code",
   "execution_count": 12,
   "metadata": {},
   "outputs": [
    {
     "ename": "KeyboardInterrupt",
     "evalue": "",
     "output_type": "error",
     "traceback": [
      "\u001b[0;31m---------------------------------------------------------------------------\u001b[0m",
      "\u001b[0;31mKeyboardInterrupt\u001b[0m                         Traceback (most recent call last)",
      "\u001b[1;32m/users/eleves-b/2021/timothee.vincon/Desktop/Kaggle_summarize_conversations/models/preprocess.ipynb Cell 12\u001b[0m line \u001b[0;36m7\n\u001b[1;32m      <a href='vscode-notebook-cell://ssh-remote%2Bporsche.polytechnique.fr/users/eleves-b/2021/timothee.vincon/Desktop/Kaggle_summarize_conversations/models/preprocess.ipynb#X14sdnNjb2RlLXJlbW90ZQ%3D%3D?line=2'>3</a>\u001b[0m colors \u001b[39m=\u001b[39m [\u001b[39m'\u001b[39m\u001b[39mred\u001b[39m\u001b[39m'\u001b[39m, \u001b[39m'\u001b[39m\u001b[39mgreen\u001b[39m\u001b[39m'\u001b[39m, \u001b[39m'\u001b[39m\u001b[39mblue\u001b[39m\u001b[39m'\u001b[39m, \u001b[39m'\u001b[39m\u001b[39myellow\u001b[39m\u001b[39m'\u001b[39m]\n\u001b[1;32m      <a href='vscode-notebook-cell://ssh-remote%2Bporsche.polytechnique.fr/users/eleves-b/2021/timothee.vincon/Desktop/Kaggle_summarize_conversations/models/preprocess.ipynb#X14sdnNjb2RlLXJlbW90ZQ%3D%3D?line=4'>5</a>\u001b[0m \u001b[39mfor\u001b[39;00m i \u001b[39min\u001b[39;00m \u001b[39mrange\u001b[39m(\u001b[39mlen\u001b[39m(X_training_final_pca)):\n\u001b[0;32m----> <a href='vscode-notebook-cell://ssh-remote%2Bporsche.polytechnique.fr/users/eleves-b/2021/timothee.vincon/Desktop/Kaggle_summarize_conversations/models/preprocess.ipynb#X14sdnNjb2RlLXJlbW90ZQ%3D%3D?line=6'>7</a>\u001b[0m     plt\u001b[39m.\u001b[39;49mscatter(X_training_final_pca[i][\u001b[39m0\u001b[39;49m], X_training_final_pca[i][\u001b[39m1\u001b[39;49m], color\u001b[39m=\u001b[39;49mcolors[y_training[i]])\n\u001b[1;32m      <a href='vscode-notebook-cell://ssh-remote%2Bporsche.polytechnique.fr/users/eleves-b/2021/timothee.vincon/Desktop/Kaggle_summarize_conversations/models/preprocess.ipynb#X14sdnNjb2RlLXJlbW90ZQ%3D%3D?line=8'>9</a>\u001b[0m plt\u001b[39m.\u001b[39mshow()\n",
      "File \u001b[0;32m/usr/lib64/python3.9/site-packages/matplotlib/pyplot.py:3068\u001b[0m, in \u001b[0;36mscatter\u001b[0;34m(x, y, s, c, marker, cmap, norm, vmin, vmax, alpha, linewidths, edgecolors, plotnonfinite, data, **kwargs)\u001b[0m\n\u001b[1;32m   3063\u001b[0m \u001b[39m@_copy_docstring_and_deprecators\u001b[39m(Axes\u001b[39m.\u001b[39mscatter)\n\u001b[1;32m   3064\u001b[0m \u001b[39mdef\u001b[39;00m \u001b[39mscatter\u001b[39m(\n\u001b[1;32m   3065\u001b[0m         x, y, s\u001b[39m=\u001b[39m\u001b[39mNone\u001b[39;00m, c\u001b[39m=\u001b[39m\u001b[39mNone\u001b[39;00m, marker\u001b[39m=\u001b[39m\u001b[39mNone\u001b[39;00m, cmap\u001b[39m=\u001b[39m\u001b[39mNone\u001b[39;00m, norm\u001b[39m=\u001b[39m\u001b[39mNone\u001b[39;00m,\n\u001b[1;32m   3066\u001b[0m         vmin\u001b[39m=\u001b[39m\u001b[39mNone\u001b[39;00m, vmax\u001b[39m=\u001b[39m\u001b[39mNone\u001b[39;00m, alpha\u001b[39m=\u001b[39m\u001b[39mNone\u001b[39;00m, linewidths\u001b[39m=\u001b[39m\u001b[39mNone\u001b[39;00m, \u001b[39m*\u001b[39m,\n\u001b[1;32m   3067\u001b[0m         edgecolors\u001b[39m=\u001b[39m\u001b[39mNone\u001b[39;00m, plotnonfinite\u001b[39m=\u001b[39m\u001b[39mFalse\u001b[39;00m, data\u001b[39m=\u001b[39m\u001b[39mNone\u001b[39;00m, \u001b[39m*\u001b[39m\u001b[39m*\u001b[39mkwargs):\n\u001b[0;32m-> 3068\u001b[0m     __ret \u001b[39m=\u001b[39m gca()\u001b[39m.\u001b[39;49mscatter(\n\u001b[1;32m   3069\u001b[0m         x, y, s\u001b[39m=\u001b[39;49ms, c\u001b[39m=\u001b[39;49mc, marker\u001b[39m=\u001b[39;49mmarker, cmap\u001b[39m=\u001b[39;49mcmap, norm\u001b[39m=\u001b[39;49mnorm,\n\u001b[1;32m   3070\u001b[0m         vmin\u001b[39m=\u001b[39;49mvmin, vmax\u001b[39m=\u001b[39;49mvmax, alpha\u001b[39m=\u001b[39;49malpha, linewidths\u001b[39m=\u001b[39;49mlinewidths,\n\u001b[1;32m   3071\u001b[0m         edgecolors\u001b[39m=\u001b[39;49medgecolors, plotnonfinite\u001b[39m=\u001b[39;49mplotnonfinite,\n\u001b[1;32m   3072\u001b[0m         \u001b[39m*\u001b[39;49m\u001b[39m*\u001b[39;49m({\u001b[39m\"\u001b[39;49m\u001b[39mdata\u001b[39;49m\u001b[39m\"\u001b[39;49m: data} \u001b[39mif\u001b[39;49;00m data \u001b[39mis\u001b[39;49;00m \u001b[39mnot\u001b[39;49;00m \u001b[39mNone\u001b[39;49;00m \u001b[39melse\u001b[39;49;00m {}), \u001b[39m*\u001b[39;49m\u001b[39m*\u001b[39;49mkwargs)\n\u001b[1;32m   3073\u001b[0m     sci(__ret)\n\u001b[1;32m   3074\u001b[0m     \u001b[39mreturn\u001b[39;00m __ret\n",
      "File \u001b[0;32m/usr/lib64/python3.9/site-packages/matplotlib/__init__.py:1364\u001b[0m, in \u001b[0;36m_preprocess_data.<locals>.inner\u001b[0;34m(ax, data, *args, **kwargs)\u001b[0m\n\u001b[1;32m   1361\u001b[0m \u001b[39m@functools\u001b[39m\u001b[39m.\u001b[39mwraps(func)\n\u001b[1;32m   1362\u001b[0m \u001b[39mdef\u001b[39;00m \u001b[39minner\u001b[39m(ax, \u001b[39m*\u001b[39margs, data\u001b[39m=\u001b[39m\u001b[39mNone\u001b[39;00m, \u001b[39m*\u001b[39m\u001b[39m*\u001b[39mkwargs):\n\u001b[1;32m   1363\u001b[0m     \u001b[39mif\u001b[39;00m data \u001b[39mis\u001b[39;00m \u001b[39mNone\u001b[39;00m:\n\u001b[0;32m-> 1364\u001b[0m         \u001b[39mreturn\u001b[39;00m func(ax, \u001b[39m*\u001b[39;49m\u001b[39mmap\u001b[39;49m(sanitize_sequence, args), \u001b[39m*\u001b[39;49m\u001b[39m*\u001b[39;49mkwargs)\n\u001b[1;32m   1366\u001b[0m     bound \u001b[39m=\u001b[39m new_sig\u001b[39m.\u001b[39mbind(ax, \u001b[39m*\u001b[39margs, \u001b[39m*\u001b[39m\u001b[39m*\u001b[39mkwargs)\n\u001b[1;32m   1367\u001b[0m     auto_label \u001b[39m=\u001b[39m (bound\u001b[39m.\u001b[39marguments\u001b[39m.\u001b[39mget(label_namer)\n\u001b[1;32m   1368\u001b[0m                   \u001b[39mor\u001b[39;00m bound\u001b[39m.\u001b[39mkwargs\u001b[39m.\u001b[39mget(label_namer))\n",
      "File \u001b[0;32m/usr/lib64/python3.9/site-packages/matplotlib/axes/_axes.py:4616\u001b[0m, in \u001b[0;36mAxes.scatter\u001b[0;34m(self, x, y, s, c, marker, cmap, norm, vmin, vmax, alpha, linewidths, edgecolors, plotnonfinite, **kwargs)\u001b[0m\n\u001b[1;32m   4613\u001b[0m     \u001b[39mif\u001b[39;00m \u001b[39mself\u001b[39m\u001b[39m.\u001b[39m_ymargin \u001b[39m<\u001b[39m \u001b[39m0.05\u001b[39m \u001b[39mand\u001b[39;00m x\u001b[39m.\u001b[39msize \u001b[39m>\u001b[39m \u001b[39m0\u001b[39m:\n\u001b[1;32m   4614\u001b[0m         \u001b[39mself\u001b[39m\u001b[39m.\u001b[39mset_ymargin(\u001b[39m0.05\u001b[39m)\n\u001b[0;32m-> 4616\u001b[0m \u001b[39mself\u001b[39;49m\u001b[39m.\u001b[39;49madd_collection(collection)\n\u001b[1;32m   4617\u001b[0m \u001b[39mself\u001b[39m\u001b[39m.\u001b[39m_request_autoscale_view()\n\u001b[1;32m   4619\u001b[0m \u001b[39mreturn\u001b[39;00m collection\n",
      "File \u001b[0;32m/usr/lib64/python3.9/site-packages/matplotlib/axes/_base.py:2062\u001b[0m, in \u001b[0;36m_AxesBase.add_collection\u001b[0;34m(self, collection, autolim)\u001b[0m\n\u001b[1;32m   2057\u001b[0m     collection\u001b[39m.\u001b[39mset_clip_path(\u001b[39mself\u001b[39m\u001b[39m.\u001b[39mpatch)\n\u001b[1;32m   2059\u001b[0m \u001b[39mif\u001b[39;00m autolim:\n\u001b[1;32m   2060\u001b[0m     \u001b[39m# Make sure viewLim is not stale (mostly to match\u001b[39;00m\n\u001b[1;32m   2061\u001b[0m     \u001b[39m# pre-lazy-autoscale behavior, which is not really better).\u001b[39;00m\n\u001b[0;32m-> 2062\u001b[0m     \u001b[39mself\u001b[39;49m\u001b[39m.\u001b[39;49m_unstale_viewLim()\n\u001b[1;32m   2063\u001b[0m     datalim \u001b[39m=\u001b[39m collection\u001b[39m.\u001b[39mget_datalim(\u001b[39mself\u001b[39m\u001b[39m.\u001b[39mtransData)\n\u001b[1;32m   2064\u001b[0m     points \u001b[39m=\u001b[39m datalim\u001b[39m.\u001b[39mget_points()\n",
      "File \u001b[0;32m/usr/lib64/python3.9/site-packages/matplotlib/axes/_base.py:778\u001b[0m, in \u001b[0;36m_AxesBase._unstale_viewLim\u001b[0;34m(self)\u001b[0m\n\u001b[1;32m    776\u001b[0m \u001b[39mfor\u001b[39;00m ax \u001b[39min\u001b[39;00m \u001b[39mself\u001b[39m\u001b[39m.\u001b[39m_shared_y_axes\u001b[39m.\u001b[39mget_siblings(\u001b[39mself\u001b[39m):\n\u001b[1;32m    777\u001b[0m     ax\u001b[39m.\u001b[39m_stale_viewlim_y \u001b[39m=\u001b[39m \u001b[39mFalse\u001b[39;00m\n\u001b[0;32m--> 778\u001b[0m \u001b[39mself\u001b[39;49m\u001b[39m.\u001b[39;49mautoscale_view(scalex\u001b[39m=\u001b[39;49mscalex, scaley\u001b[39m=\u001b[39;49mscaley)\n",
      "File \u001b[0;32m/usr/lib64/python3.9/site-packages/matplotlib/axes/_base.py:2753\u001b[0m, in \u001b[0;36m_AxesBase.autoscale_view\u001b[0;34m(self, tight, scalex, scaley)\u001b[0m\n\u001b[1;32m   2750\u001b[0m     set_bound(x0, x1)\n\u001b[1;32m   2751\u001b[0m     \u001b[39m# End of definition of internal function 'handle_single_axis'.\u001b[39;00m\n\u001b[0;32m-> 2753\u001b[0m handle_single_axis(\n\u001b[1;32m   2754\u001b[0m     scalex, \u001b[39mself\u001b[39;49m\u001b[39m.\u001b[39;49m_autoscaleXon, \u001b[39mself\u001b[39;49m\u001b[39m.\u001b[39;49m_shared_x_axes, \u001b[39m'\u001b[39;49m\u001b[39mintervalx\u001b[39;49m\u001b[39m'\u001b[39;49m,\n\u001b[1;32m   2755\u001b[0m     \u001b[39m'\u001b[39;49m\u001b[39mminposx\u001b[39;49m\u001b[39m'\u001b[39;49m, \u001b[39mself\u001b[39;49m\u001b[39m.\u001b[39;49mxaxis, \u001b[39mself\u001b[39;49m\u001b[39m.\u001b[39;49m_xmargin, x_stickies, \u001b[39mself\u001b[39;49m\u001b[39m.\u001b[39;49mset_xbound)\n\u001b[1;32m   2756\u001b[0m handle_single_axis(\n\u001b[1;32m   2757\u001b[0m     scaley, \u001b[39mself\u001b[39m\u001b[39m.\u001b[39m_autoscaleYon, \u001b[39mself\u001b[39m\u001b[39m.\u001b[39m_shared_y_axes, \u001b[39m'\u001b[39m\u001b[39mintervaly\u001b[39m\u001b[39m'\u001b[39m,\n\u001b[1;32m   2758\u001b[0m     \u001b[39m'\u001b[39m\u001b[39mminposy\u001b[39m\u001b[39m'\u001b[39m, \u001b[39mself\u001b[39m\u001b[39m.\u001b[39myaxis, \u001b[39mself\u001b[39m\u001b[39m.\u001b[39m_ymargin, y_stickies, \u001b[39mself\u001b[39m\u001b[39m.\u001b[39mset_ybound)\n",
      "File \u001b[0;32m/usr/lib64/python3.9/site-packages/matplotlib/axes/_base.py:2715\u001b[0m, in \u001b[0;36m_AxesBase.autoscale_view.<locals>.handle_single_axis\u001b[0;34m(scale, autoscaleon, shared_axes, interval, minpos, axis, margin, stickies, set_bound)\u001b[0m\n\u001b[1;32m   2712\u001b[0m     x0, x1 \u001b[39m=\u001b[39m (\u001b[39m-\u001b[39mnp\u001b[39m.\u001b[39minf, np\u001b[39m.\u001b[39minf)\n\u001b[1;32m   2713\u001b[0m \u001b[39m# If x0 and x1 are non finite, use the locator to figure out\u001b[39;00m\n\u001b[1;32m   2714\u001b[0m \u001b[39m# default limits.\u001b[39;00m\n\u001b[0;32m-> 2715\u001b[0m locator \u001b[39m=\u001b[39m axis\u001b[39m.\u001b[39;49mget_major_locator()\n\u001b[1;32m   2716\u001b[0m x0, x1 \u001b[39m=\u001b[39m locator\u001b[39m.\u001b[39mnonsingular(x0, x1)\n\u001b[1;32m   2718\u001b[0m \u001b[39m# Prevent margin addition from crossing a sticky value.  A small\u001b[39;00m\n\u001b[1;32m   2719\u001b[0m \u001b[39m# tolerance must be added due to floating point issues with\u001b[39;00m\n\u001b[1;32m   2720\u001b[0m \u001b[39m# streamplot; it is defined relative to x0, x1, x1-x0 but has\u001b[39;00m\n\u001b[1;32m   2721\u001b[0m \u001b[39m# no absolute term (e.g. \"+1e-8\") to avoid issues when working with\u001b[39;00m\n\u001b[1;32m   2722\u001b[0m \u001b[39m# datasets where all values are tiny (less than 1e-8).\u001b[39;00m\n",
      "\u001b[0;31mKeyboardInterrupt\u001b[0m: "
     ]
    },
    {
     "data": {
      "image/png": "[encoded data removed]",
      "text/plain": [
       "<Figure size 640x480 with 1 Axes>"
      ]
     },
     "metadata": {},
     "output_type": "display_data"
    }
   ],
   "source": [
    "# plot the pca\n",
    "\n",
    "colors = ['red', 'green']\n",
    "\n",
    "print(len(X_training_final_pca))\n",
    "\n",
    "for i in range(len(X_training_final_pca)):\n",
    "\n",
    "    if i % 100 == 0:\n",
    "        print('step ', i, ' / ', len(X_training_final_pca))\n",
    "\n",
    "    plt.scatter(X_training_final_pca[i][0], X_training_final_pca[i][1], color=colors[y_training[i]])\n",
    "\n",
    "plt.show()"
   ]
  }
 ],
 "metadata": {
  "kernelspec": {
   "display_name": "Python 3",
   "language": "python",
   "name": "python3"
  },
  "language_info": {
   "codemirror_mode": {
    "name": "ipython",
    "version": 3
   },
   "file_extension": ".py",
   "mimetype": "text/x-python",
   "name": "python",
   "nbconvert_exporter": "python",
   "pygments_lexer": "ipython3",
   "version": "3.9.18"
  }
 },
 "nbformat": 4,
 "nbformat_minor": 2
}
